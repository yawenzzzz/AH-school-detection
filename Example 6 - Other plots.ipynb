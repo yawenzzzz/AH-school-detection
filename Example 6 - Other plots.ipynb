{
 "cells": [
  {
   "cell_type": "markdown",
   "id": "b038b3a5",
   "metadata": {},
   "source": [
    "# Example 6 - Other plots\n",
    "\n",
    "In this example, we'll plot other plots in the result section."
   ]
  },
  {
   "cell_type": "code",
   "execution_count": 1,
   "id": "8ba0e015",
   "metadata": {},
   "outputs": [],
   "source": [
    "import os\n",
    "import numpy as np\n",
    "import pandas as pd\n",
    "import glob\n",
    "import pickle\n",
    "import seaborn as sns\n",
    "import matplotlib.pyplot as plt\n",
    "\n",
    "sns.set(font_scale=1.2)\n",
    "plt.style.use('seaborn-white')\n",
    "%matplotlib inline"
   ]
  },
  {
   "cell_type": "code",
   "execution_count": 2,
   "id": "2f444660",
   "metadata": {},
   "outputs": [],
   "source": [
    "fig_dir = \"figures/\"\n",
    "pkl_dir = \"pkl/\""
   ]
  },
  {
   "cell_type": "markdown",
   "id": "57f94df1",
   "metadata": {},
   "source": [
    "## Step 1. Sv threshold & ROI detection\n",
    "\n",
    "In this step, we'll plot the how different Sv threshold impact recall & precision. "
   ]
  },
  {
   "cell_type": "code",
   "execution_count": 3,
   "id": "e5b1a446",
   "metadata": {},
   "outputs": [],
   "source": [
    "df_threshold = pd.read_pickle(pkl_dir + 'df_threshold.pkl')"
   ]
  },
  {
   "cell_type": "code",
   "execution_count": 11,
   "id": "622602d9",
   "metadata": {},
   "outputs": [
    {
     "name": "stdout",
     "output_type": "stream",
     "text": [
      "threshold: -54, recall: 0.05463182897862233, precision: 0.440337909186906, F1: 0.048601891171492564\n",
      "threshold: -56, recall: 0.08123515439429929, precision: 0.46337579617834396, F1: 0.0691179718394373\n",
      "threshold: -58, recall: 0.11401425178147269, precision: 0.473967684021544, F1: 0.09190600522193212\n",
      "threshold: -60, recall: 0.1667458432304038, precision: 0.49513776337115073, F1: 0.12473819119415061\n",
      "threshold: -62, recall: 0.28741092636579574, precision: 0.509112426035503, F1: 0.1837039347937177\n",
      "threshold: -64, recall: 0.643230403800475, precision: 0.41631186801490155, F1: 0.252735976745264\n",
      "threshold: -66, recall: 0.9135391923990499, precision: 0.17770936822220668, F1: 0.14876947249766456\n",
      "threshold: -68, recall: 0.9434679334916865, precision: 0.05685845712992987, F1: 0.05362662782151073\n",
      "threshold: -70, recall: 0.8679334916864608, precision: 0.02342840831741431, F1: 0.022812619919587232\n",
      "threshold: -72, recall: 0.8038004750593825, precision: 0.01125058520599251, F1: 0.011095287368043456\n",
      "threshold: -74, recall: 0.7116389548693587, precision: 0.005895964751006435, F1: 0.00584751777038631\n",
      "threshold: -76, recall: 0.6180522565320665, precision: 0.003278993315248164, F1: 0.003261688862648871\n",
      "threshold: -78, recall: 0.5054631828978622, precision: 0.0018704237346127235, F1: 0.001863527907288718\n",
      "threshold: -80, recall: 0.4199524940617577, precision: 0.0012190977199178401, F1: 0.0012155689936701323\n"
     ]
    }
   ],
   "source": [
    "res_plot = []\n",
    "for threshold in df_threshold['threshold'].unique():\n",
    "    df = df_threshold[df_threshold['threshold']==threshold]\n",
    "    recall = df['annotations_valid'].sum() / df['annotations_all'].sum()\n",
    "    precision = df['roi_valid'].sum() / df['roi_all'].sum()\n",
    "    F1 = 1.0/(1.0/recall + 1.0/precision)\n",
    "    res_plot.append({'threshold': threshold, 'recall': recall, 'precision': precision, 'F1': F1})\n",
    "    print(f'threshold: {threshold}, recall: {recall}, precision: {precision}, F1: {F1}')\n",
    "res = pd.DataFrame(res_plot)"
   ]
  },
  {
   "cell_type": "code",
   "execution_count": 13,
   "id": "ad5c73d6",
   "metadata": {},
   "outputs": [
    {
     "data": {
      "text/plain": [
       "<matplotlib.axes._subplots.AxesSubplot at 0x7fd46cc1dd00>"
      ]
     },
     "execution_count": 13,
     "metadata": {},
     "output_type": "execute_result"
    },
    {
     "data": {
      "image/png": "[encoded data removed]",
      "text/plain": [
       "<Figure size 432x288 with 1 Axes>"
      ]
     },
     "metadata": {
      "needs_background": "light"
     },
     "output_type": "display_data"
    }
   ],
   "source": [
    "sns.barplot(x='threshold', y='recall', data=res, palette=\"Blues_d\")"
   ]
  },
  {
   "cell_type": "code",
   "execution_count": 19,
   "id": "bfb089b3",
   "metadata": {},
   "outputs": [],
   "source": [
    "sns.barplot(x='threshold', y='recall', data=res, palette=\"Oranges_d\")\n",
    "plt.xticks(fontsize=17)\n",
    "plt.xlabel('Minimum Sv value', fontsize=22)\n",
    "plt.ylabel('Recall', fontsize=22)\n",
    "plt.yticks(fontsize=17)\n",
    "ax = plt.gca()\n",
    "ax.grid(True, linestyle='--', linewidth=0.5)\n",
    "plt.tight_layout(pad=0.1)\n",
    "plt.savefig(fig_dir + \"ROI_recall.png\", dpi=300)\n",
    "plt.close()"
   ]
  },
  {
   "cell_type": "code",
   "execution_count": 14,
   "id": "55bc2e99",
   "metadata": {},
   "outputs": [
    {
     "data": {
      "text/plain": [
       "<matplotlib.axes._subplots.AxesSubplot at 0x7fd46cbb7dc0>"
      ]
     },
     "execution_count": 14,
     "metadata": {},
     "output_type": "execute_result"
    },
    {
     "data": {
      "image/png": "[encoded data removed]",
      "text/plain": [
       "<Figure size 432x288 with 1 Axes>"
      ]
     },
     "metadata": {
      "needs_background": "light"
     },
     "output_type": "display_data"
    }
   ],
   "source": [
    "sns.barplot(x='threshold', y='precision', data=res, palette=\"Blues_d\")"
   ]
  },
  {
   "cell_type": "code",
   "execution_count": 20,
   "id": "2b356af6",
   "metadata": {},
   "outputs": [],
   "source": [
    "sns.barplot(x='threshold', y='precision', data=res, palette=\"Oranges_d\")\n",
    "plt.xticks(fontsize=17)\n",
    "plt.xlabel('Minimum Sv value', fontsize=22)\n",
    "plt.ylabel('Precision', fontsize=22)\n",
    "plt.yticks(fontsize=17)\n",
    "ax = plt.gca()\n",
    "ax.grid(True, linestyle='--', linewidth=0.5)\n",
    "plt.tight_layout(pad=0.1)\n",
    "plt.savefig(fig_dir + \"ROI_precision.png\", dpi=300)\n",
    "plt.close()"
   ]
  },
  {
   "cell_type": "markdown",
   "id": "6db3a820",
   "metadata": {},
   "source": [
    "## Step 2. Feature importance (RF model)\n",
    "\n",
    "In this step, we'll show feature importance in RF model. "
   ]
  },
  {
   "cell_type": "code",
   "execution_count": 10,
   "id": "09b2c663",
   "metadata": {},
   "outputs": [],
   "source": [
    "with open(pkl_dir + 'model_RF.pkl', 'rb') as handle:\n",
    "    c = pickle.load(handle)"
   ]
  },
  {
   "cell_type": "code",
   "execution_count": 11,
   "id": "1fc2053a",
   "metadata": {},
   "outputs": [],
   "source": [
    "# load features\n",
    "acoustic_features = ['Sv_18kHz_min', 'Sv_18kHz_p5', 'Sv_18kHz_p25', 'Sv_18kHz_p50', 'Sv_18kHz_p75', 'Sv_18kHz_p95', 'Sv_18kHz_max', 'Sv_18kHz_std', 'Sv_38kHz_min', 'Sv_38kHz_p5', 'Sv_38kHz_p25', 'Sv_38kHz_p50', 'Sv_38kHz_p75', 'Sv_38kHz_p95', 'Sv_38kHz_max', 'Sv_38kHz_std', 'Sv_120kHz_min', 'Sv_120kHz_p5', 'Sv_120kHz_p25', 'Sv_120kHz_p50', 'Sv_120kHz_p75', 'Sv_120kHz_p95', 'Sv_120kHz_max', 'Sv_120kHz_std', 'Sv_200kHz_min', 'Sv_200kHz_p5', 'Sv_200kHz_p25', 'Sv_200kHz_p50', 'Sv_200kHz_p75', 'Sv_200kHz_p95', 'Sv_200kHz_max', 'Sv_200kHz_std', 'Sv_ref_18kHz', 'Sv_ref_120kHz', 'Sv_ref_200kHz']\n",
    "geometric_features = ['length', 'thickness', 'area', 'perimeter', 'rectangularity', 'compact', 'circularity', 'elongation']\n",
    "geographic_features_vertical = ['total_water_column', 'depth', 'relative_altitude']\n",
    "geographic_features_horizontal = ['latitude', 'longitude']\n",
    "sel_features = acoustic_features + geometric_features + geographic_features_vertical + geographic_features_horizontal"
   ]
  },
  {
   "cell_type": "code",
   "execution_count": 16,
   "id": "40ecaa9b",
   "metadata": {},
   "outputs": [],
   "source": [
    "# feature importance\n",
    "importance = c.feature_importances_\n",
    "indices = np.argsort(importance)\n",
    "cols = sel_features\n",
    "sorted_cols = [cols[i] for i in indices]\n",
    "pal = sns.color_palette(\"Blues\", 33) + sns.color_palette(\"Blues\", 15)\n",
    "sns.barplot(x=importance[indices], y=sorted_cols, palette=pal)\n",
    "# plt.barh(np.arange(0, len(importance)), importance[indices], align='center', alpha=0.7, height=0.6, color='blue')\n",
    "plt.yticks(np.arange(0, len(importance)), sorted_cols, fontsize=12)\n",
    "plt.ylim([len(importance)-15.6, len(importance)-0.3])\n",
    "plt.xlabel('Feature Importance', fontsize=15.5)\n",
    "plt.xticks(fontsize=12)\n",
    "plt.savefig(fig_dir + \"feature importance.png\", bbox_inches='tight', dpi=300)\n",
    "plt.close()"
   ]
  },
  {
   "cell_type": "code",
   "execution_count": 14,
   "id": "662d18c5",
   "metadata": {},
   "outputs": [
    {
     "data": {
      "text/plain": [
       "48"
      ]
     },
     "execution_count": 14,
     "metadata": {},
     "output_type": "execute_result"
    }
   ],
   "source": [
    "len(sorted_cols)"
   ]
  },
  {
   "cell_type": "markdown",
   "id": "5d52208b",
   "metadata": {},
   "source": [
    "## Step 3. Analyze labeled:unlabeled ratio (PU learning)\n",
    "\n",
    "In this step, we'll show how labeled:unlabeled ratio impact results of PU learning. "
   ]
  },
  {
   "cell_type": "code",
   "execution_count": 4,
   "id": "cde1ee85",
   "metadata": {},
   "outputs": [],
   "source": [
    "res_PU = pd.read_pickle(pkl_dir + 'results_PU_times.pkl')"
   ]
  },
  {
   "cell_type": "code",
   "execution_count": 5,
   "id": "ecb8fdeb",
   "metadata": {},
   "outputs": [],
   "source": [
    "sns.lineplot(data=res_PU, x='time', y='PU_recall', color=\"orange\", marker='o', label='Recall', linewidth=2)\n",
    "sns.lineplot(data=res_PU, x='time', y='PU_precision', color='blue', marker='o', label='Precision', linewidth=2)\n",
    "sns.lineplot(data=res_PU, x='time', y='PU_f1', color='red', marker='o', label='F1-score', linewidth=2)\n",
    "plt.xticks(fontsize=15)\n",
    "plt.yticks(fontsize=15)\n",
    "plt.xlabel('Ratio', fontsize=20)\n",
    "plt.ylabel('Value', fontsize=20)\n",
    "plt.legend(fontsize=16)\n",
    "ax = plt.gca()\n",
    "ax.grid(True, linestyle='--', linewidth=0.5)\n",
    "plt.tight_layout(pad=0.1)\n",
    "plt.savefig(fig_dir + \"ratio.png\", dpi=300)\n",
    "plt.close()"
   ]
  },
  {
   "cell_type": "markdown",
   "id": "097907b0",
   "metadata": {},
   "source": [
    "## Step 4. Analyze using different number of samples\n",
    "\n",
    "In this step, we'll show how different number of positive samples may impact the performance. "
   ]
  },
  {
   "cell_type": "code",
   "execution_count": 9,
   "id": "b561ecc8",
   "metadata": {},
   "outputs": [],
   "source": [
    "res_RF_pd = pd.read_pickle(pkl_dir + 'results_RF.pkl')\n",
    "res_PU_pd = pd.read_pickle(pkl_dir + 'results_PU.pkl')    \n",
    "res_co_pd = pd.read_pickle(pkl_dir + 'results_co.pkl')"
   ]
  },
  {
   "cell_type": "code",
   "execution_count": 11,
   "id": "05d2543e",
   "metadata": {},
   "outputs": [],
   "source": [
    "colors = sns.color_palette(palette=\"Paired\", n_colors=6)\n",
    "\n",
    "sns.lineplot(data=res_RF_pd, x='size', y='RF_recall', marker=\"o\", linewidth=3, label='RF', color=colors[1])\n",
    "sns.lineplot(data=res_PU_pd, x='size', y='PU_recall', marker=\"o\", linewidth=3, label='PU learning', color=colors[3])\n",
    "sns.lineplot(data=res_co_pd, x='size', y='CO_recall', marker=\"o\", linewidth=3, label='Co-training', color=colors[5])\n",
    "plt.xlabel('# of positive data samples', fontsize=22)\n",
    "plt.ylabel('Recall', fontsize=22)\n",
    "plt.ylim([0, 1])\n",
    "plt.xticks(fontsize=18)\n",
    "plt.yticks(fontsize=18)\n",
    "plt.legend(prop={'size':18})\n",
    "ax = plt.gca()\n",
    "ax.grid(True, linestyle='--', linewidth=0.5)\n",
    "plt.tight_layout(pad=0)\n",
    "plt.savefig(fig_dir + \"compare_results_recall.png\", dpi=300)\n",
    "plt.close()\n",
    "\n",
    "sns.lineplot(data=res_RF_pd, x='size', y='RF_precision', marker=\"o\", linewidth=3, label='RF', color=colors[1])\n",
    "sns.lineplot(data=res_PU_pd, x='size', y='PU_precision', marker=\"o\", linewidth=3, label='PU learning', color=colors[3])\n",
    "sns.lineplot(data=res_co_pd, x='size', y='CO_precision', marker=\"o\", linewidth=3, label='Co-training', color=colors[5])\n",
    "plt.xlabel('# of positive data samples', fontsize=22)\n",
    "plt.ylabel('Precision', fontsize=22)\n",
    "plt.ylim([0, 1])\n",
    "plt.xticks(fontsize=18)\n",
    "plt.yticks(fontsize=18)\n",
    "plt.legend(prop={'size':18})\n",
    "ax = plt.gca()\n",
    "ax.grid(True, linestyle='--', linewidth=0.5)\n",
    "plt.tight_layout(pad=0)\n",
    "plt.savefig(fig_dir + \"compare_results_precision.png\", dpi=300)\n",
    "plt.close()\n",
    "\n",
    "sns.lineplot(data=res_RF_pd, x='size', y='RF_f1', marker=\"o\", linewidth=3, label='RF', color=colors[1])\n",
    "sns.lineplot(data=res_PU_pd, x='size', y='PU_f1', marker=\"o\", linewidth=3, label='PU learning', color=colors[3])\n",
    "sns.lineplot(data=res_co_pd, x='size', y='CO_f1', marker=\"o\", linewidth=3, label='Co-training', color=colors[5])\n",
    "plt.xlabel('# of positive data samples', fontsize=22)\n",
    "plt.ylabel('F1 score', fontsize=22)\n",
    "plt.ylim([0, 1])\n",
    "plt.xticks(fontsize=18)\n",
    "plt.yticks(fontsize=18)\n",
    "plt.legend(prop={'size':18})\n",
    "ax = plt.gca()\n",
    "ax.grid(True, linestyle='--', linewidth=0.5)\n",
    "plt.tight_layout(pad=0)\n",
    "plt.savefig(fig_dir + \"compare_results_f1.png\", dpi=300)\n",
    "plt.close()"
   ]
  }
 ],
 "metadata": {
  "kernelspec": {
   "display_name": "Python 3 (ipykernel)",
   "language": "python",
   "name": "python3"
  },
  "language_info": {
   "codemirror_mode": {
    "name": "ipython",
    "version": 3
   },
   "file_extension": ".py",
   "mimetype": "text/x-python",
   "name": "python",
   "nbconvert_exporter": "python",
   "pygments_lexer": "ipython3",
   "version": "3.8.2"
  }
 },
 "nbformat": 4,
 "nbformat_minor": 5
}
