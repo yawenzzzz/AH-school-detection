{
 "cells": [
  {
   "cell_type": "markdown",
   "metadata": {},
   "source": [
    "# Example 9 - Separate train, val and test data\n",
    "\n",
    "In this notebook, we'll separate train, val and test data. Using only labeled echograms? 60%, 20%, 20%"
   ]
  },
  {
   "cell_type": "code",
   "execution_count": 1,
   "metadata": {},
   "outputs": [],
   "source": [
    "# what is labeled? AH, some negative, a lot of unlabeled\n",
    "# option 1: only use files with annotations, option 2: use a certain range! Better! \n",
    "# 09/25 - 11/14, 2019"
   ]
  },
  {
   "cell_type": "code",
   "execution_count": 27,
   "metadata": {},
   "outputs": [],
   "source": [
    "import os\n",
    "import glob\n",
    "import random\n",
    "import pickle"
   ]
  },
  {
   "cell_type": "markdown",
   "metadata": {},
   "source": [
    "## Step 1. Get filenames\n",
    "\n",
    "In this step, let's get all filenames, randomize. "
   ]
  },
  {
   "cell_type": "code",
   "execution_count": 4,
   "metadata": {},
   "outputs": [],
   "source": [
    "# add raw and bottom file dir\n",
    "raw_dir = \"../data/HB1906_EK60/rawfiles/\"\n",
    "bot_dir = \"../data/HB1906_EK60/botfiles/\"\n",
    "raw_paths = sorted(glob.glob(raw_dir + '*.raw'))\n",
    "bot_paths = sorted(glob.glob(bot_dir + '*.bot'))"
   ]
  },
  {
   "cell_type": "code",
   "execution_count": 7,
   "metadata": {},
   "outputs": [
    {
     "data": {
      "text/plain": [
       "1710"
      ]
     },
     "execution_count": 7,
     "metadata": {},
     "output_type": "execute_result"
    }
   ],
   "source": [
    "len(raw_paths)"
   ]
  },
  {
   "cell_type": "code",
   "execution_count": 6,
   "metadata": {},
   "outputs": [
    {
     "data": {
      "text/plain": [
       "518"
      ]
     },
     "execution_count": 6,
     "metadata": {},
     "output_type": "execute_result"
    }
   ],
   "source": [
    "# set range\n",
    "# first annotation: ../data/HB1906_EK60/rawfiles/D20190925-T220811.raw\n",
    "raw_paths.index('../data/HB1906_EK60/rawfiles/D20190925-T220811.raw')"
   ]
  },
  {
   "cell_type": "code",
   "execution_count": 9,
   "metadata": {},
   "outputs": [],
   "source": [
    "sel_raw_paths = raw_paths[518:]\n",
    "sel_bot_paths = bot_paths[518:]"
   ]
  },
  {
   "cell_type": "code",
   "execution_count": 10,
   "metadata": {},
   "outputs": [
    {
     "name": "stdout",
     "output_type": "stream",
     "text": [
      "../data/HB1906_EK60/rawfiles/D20190925-T220811.raw\n",
      "../data/HB1906_EK60/botfiles/D20190925-T220811.bot\n"
     ]
    }
   ],
   "source": [
    "print(sel_raw_paths[0])\n",
    "print(sel_bot_paths[0])"
   ]
  },
  {
   "cell_type": "markdown",
   "metadata": {},
   "source": [
    "## Step 2. Separate into train, val, test data\n",
    "\n",
    "In this step, we'll separate selected filenames into train, val and test data. "
   ]
  },
  {
   "cell_type": "code",
   "execution_count": 17,
   "metadata": {},
   "outputs": [],
   "source": [
    "raw_bot_paths = [[i, j] for i, j in zip(sel_raw_paths, sel_bot_paths)]"
   ]
  },
  {
   "cell_type": "code",
   "execution_count": 18,
   "metadata": {},
   "outputs": [
    {
     "data": {
      "text/plain": [
       "['../data/HB1906_EK60/rawfiles/D20190925-T220811.raw',\n",
       " '../data/HB1906_EK60/botfiles/D20190925-T220811.bot']"
      ]
     },
     "execution_count": 18,
     "metadata": {},
     "output_type": "execute_result"
    }
   ],
   "source": [
    "raw_bot_paths[0]"
   ]
  },
  {
   "cell_type": "code",
   "execution_count": 19,
   "metadata": {},
   "outputs": [],
   "source": [
    "random.seed(1)\n",
    "random.shuffle(raw_bot_paths)"
   ]
  },
  {
   "cell_type": "code",
   "execution_count": 20,
   "metadata": {},
   "outputs": [
    {
     "data": {
      "text/plain": [
       "['../data/HB1906_EK60/rawfiles/D20191109-T150801.raw',\n",
       " '../data/HB1906_EK60/botfiles/D20191109-T150801.bot']"
      ]
     },
     "execution_count": 20,
     "metadata": {},
     "output_type": "execute_result"
    }
   ],
   "source": [
    "raw_bot_paths[0]"
   ]
  },
  {
   "cell_type": "code",
   "execution_count": 21,
   "metadata": {},
   "outputs": [
    {
     "data": {
      "text/plain": [
       "1192"
      ]
     },
     "execution_count": 21,
     "metadata": {},
     "output_type": "execute_result"
    }
   ],
   "source": [
    "# separate\n",
    "len(raw_bot_paths)"
   ]
  },
  {
   "cell_type": "code",
   "execution_count": 22,
   "metadata": {},
   "outputs": [],
   "source": [
    "train_len = int(len(raw_bot_paths) * 0.6)\n",
    "test_len = int(len(raw_bot_paths) * 0.2)"
   ]
  },
  {
   "cell_type": "code",
   "execution_count": 23,
   "metadata": {},
   "outputs": [
    {
     "name": "stdout",
     "output_type": "stream",
     "text": [
      "715 238\n"
     ]
    }
   ],
   "source": [
    "print(train_len, test_len)"
   ]
  },
  {
   "cell_type": "code",
   "execution_count": 24,
   "metadata": {},
   "outputs": [],
   "source": [
    "train_li = raw_bot_paths[:train_len]\n",
    "val_li = raw_bot_paths[train_len:train_len + test_len]\n",
    "test_li = raw_bot_paths[train_len + test_len:]"
   ]
  },
  {
   "cell_type": "code",
   "execution_count": 25,
   "metadata": {},
   "outputs": [
    {
     "name": "stdout",
     "output_type": "stream",
     "text": [
      "715 238 239\n"
     ]
    }
   ],
   "source": [
    "print(len(train_li), len(val_li), len(test_li))"
   ]
  },
  {
   "cell_type": "markdown",
   "metadata": {},
   "source": [
    "## Step 3. Save\n",
    "\n",
    "In this step, save train, val, test data. "
   ]
  },
  {
   "cell_type": "code",
   "execution_count": 32,
   "metadata": {},
   "outputs": [],
   "source": [
    "pkl_dir = \"pkl/\"\n",
    "# for compatible, set protocol to 4 (Python 3.7)\n",
    "with open(pkl_dir + \"train_li.pickle\", \"wb\") as handle:\n",
    "    pickle.dump(train_li, handle, protocol=4)\n",
    "with open(pkl_dir + \"val_li.pickle\", \"wb\") as handle:\n",
    "    pickle.dump(val_li, handle, protocol=4)\n",
    "with open(pkl_dir + \"test_li.pickle\", \"wb\") as handle:\n",
    "    pickle.dump(test_li, handle, protocol=4)"
   ]
  }
 ],
 "metadata": {
  "kernelspec": {
   "display_name": "Python 3",
   "language": "python",
   "name": "python3"
  },
  "language_info": {
   "codemirror_mode": {
    "name": "ipython",
    "version": 3
   },
   "file_extension": ".py",
   "mimetype": "text/x-python",
   "name": "python",
   "nbconvert_exporter": "python",
   "pygments_lexer": "ipython3",
   "version": "3.8.5"
  }
 },
 "nbformat": 4,
 "nbformat_minor": 5
}
