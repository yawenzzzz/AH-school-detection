{
 "cells": [
  {
   "cell_type": "markdown",
   "id": "0197ba97",
   "metadata": {},
   "source": [
    "# Example 8 - Write to Echoview format\n",
    "\n",
    "In this example, with the generated .pkl files, we'll try to convert them into Echoview format, one .EVR file per echogram. "
   ]
  },
  {
   "cell_type": "code",
   "execution_count": 5,
   "id": "704daeae",
   "metadata": {},
   "outputs": [],
   "source": [
    "import os\n",
    "import numpy as np\n",
    "import pandas as pd\n",
    "import glob\n",
    "import pickle\n",
    "import random"
   ]
  },
  {
   "cell_type": "code",
   "execution_count": 6,
   "id": "61d1f532",
   "metadata": {},
   "outputs": [],
   "source": [
    "pkl_dir = \"pkl/export_2018_PU_ratio_4/\"\n",
    "evr_dir = \"Echoview_2018/\""
   ]
  },
  {
   "cell_type": "markdown",
   "id": "905b08e6",
   "metadata": {},
   "source": [
    "Begin writing an .evr file. "
   ]
  },
  {
   "cell_type": "code",
   "execution_count": 19,
   "id": "1bbb6ad3",
   "metadata": {},
   "outputs": [],
   "source": [
    "all_pkls = os.listdir(pkl_dir)"
   ]
  },
  {
   "cell_type": "code",
   "execution_count": 20,
   "id": "d1dd57fa",
   "metadata": {},
   "outputs": [],
   "source": [
    "for pkl in all_pkls:\n",
    "    filename = pkl.split('.')[0]\n",
    "    # load data\n",
    "    with open(pkl_dir + pkl, 'rb') as f:\n",
    "        data = pickle.load(f)\n",
    "    # create text file\n",
    "    with open(evr_dir + f'{filename}.evr', 'w') as f:\n",
    "        f.write('EVRG 7 11.0.244.39215')\n",
    "        f.write('\\r\\n')\n",
    "        f.write(str(len(data))) # how many regions\n",
    "        f.write('\\r\\n')\n",
    "        # begin writing region\n",
    "        for idx, region in enumerate(data):\n",
    "            point_count, bbox_points, mask_points = region\n",
    "            f.write('\\r\\n')\n",
    "            f.write('13 ')\n",
    "            f.write(str(point_count) + ' ')\n",
    "            f.write(str(idx + 1) + ' ')\n",
    "            f.write('0 2 -1 1')\n",
    "            for point in bbox_points:\n",
    "                f.write(' ' + str(point)) # last point, no space\n",
    "            f.write('\\r\\n')\n",
    "            f.write('0')\n",
    "            f.write('\\r\\n')\n",
    "            f.write('0')\n",
    "            f.write('\\r\\n')\n",
    "            f.write('AH_School')\n",
    "            f.write('\\r\\n')\n",
    "            for points in mask_points:\n",
    "                for point in points:\n",
    "                    f.write(str(point) + ' ')\n",
    "            f.write('1 ')\n",
    "            f.write('\\r\\n')\n",
    "            f.write('100')\n",
    "            f.write('\\r\\n')\n",
    "            # f.close() # Use this will raise Error!"
   ]
  }
 ],
 "metadata": {
  "kernelspec": {
   "display_name": "Python 3 (ipykernel)",
   "language": "python",
   "name": "python3"
  },
  "language_info": {
   "codemirror_mode": {
    "name": "ipython",
    "version": 3
   },
   "file_extension": ".py",
   "mimetype": "text/x-python",
   "name": "python",
   "nbconvert_exporter": "python",
   "pygments_lexer": "ipython3",
   "version": "3.8.2"
  }
 },
 "nbformat": 4,
 "nbformat_minor": 5
}
