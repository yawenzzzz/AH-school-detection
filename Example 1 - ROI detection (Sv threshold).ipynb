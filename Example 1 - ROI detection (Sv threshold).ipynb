{
 "cells": [
  {
   "cell_type": "markdown",
   "metadata": {},
   "source": [
    "# Example 1 - ROI detection\n",
    "\n",
    "In this notebook, we'll perform ROI detection on echograms, and evaluate its performance using annotations. "
   ]
  },
  {
   "cell_type": "code",
   "execution_count": 13,
   "metadata": {},
   "outputs": [],
   "source": [
    "import os\n",
    "import numpy as np\n",
    "import pandas as pd\n",
    "import glob\n",
    "import pickle\n",
    "\n",
    "from src.read_echogram import EchogramReader\n",
    "from src.detect_ROI import ROIDetector\n",
    "from src.ROI_features import FeatureExtractor\n",
    "from src.transform_annotations import AnnotationTransformer\n",
    "from src.match_annotations import OverlapAnnotation\n",
    "from src.crop_ROI import ROICropper\n",
    "\n",
    "%matplotlib inline"
   ]
  },
  {
   "cell_type": "markdown",
   "metadata": {},
   "source": [
    "## Step 1. Load annotations\n",
    "\n",
    "In this step, we'll load original and transformed annotations, i.e., filename: [annotations, labels], saved as pkl file. "
   ]
  },
  {
   "cell_type": "code",
   "execution_count": 14,
   "metadata": {},
   "outputs": [],
   "source": [
    "# load original annotations (mask)\n",
    "annotations_dir = \"../csv/\"\n",
    "annotations = pd.read_csv(annotations_dir + \"annotation_df_masks.csv\")\n",
    "# drop nan\n",
    "annotations = annotations.dropna(how='any')\n",
    "# add label map\n",
    "label_map = {'Unclassified regions': 1, 'krill_schools': 2, 'fish_school': 3, 'AH_School': 4}"
   ]
  },
  {
   "cell_type": "code",
   "execution_count": 15,
   "metadata": {},
   "outputs": [],
   "source": [
    "# select echograms with AH schools\n",
    "annotations_sel = annotations[annotations['label'] == 'AH_School']\n",
    "filename_li = annotations_sel['file_dir'].unique()\n",
    "filename_li.sort()"
   ]
  },
  {
   "cell_type": "code",
   "execution_count": 16,
   "metadata": {},
   "outputs": [
    {
     "data": {
      "text/plain": [
       "254"
      ]
     },
     "execution_count": 16,
     "metadata": {},
     "output_type": "execute_result"
    }
   ],
   "source": [
    "len(filename_li)"
   ]
  },
  {
   "cell_type": "code",
   "execution_count": 17,
   "metadata": {},
   "outputs": [],
   "source": [
    "# load transformed annotations (query)\n",
    "pkl_dir = \"pkl/\"\n",
    "with open(pkl_dir + 'annotations_dict_new.pickle', 'rb') as handle:\n",
    "    annotations_dict = pickle.load(handle)"
   ]
  },
  {
   "cell_type": "markdown",
   "metadata": {},
   "source": [
    "## Step 3. Parameter study (Sv threshold)\n",
    "\n",
    "Next, let's test out threshold & recall/precion/F1. We use overlap ratio at 0.4 or 0.6?"
   ]
  },
  {
   "cell_type": "code",
   "execution_count": 18,
   "metadata": {},
   "outputs": [],
   "source": [
    "# add raw and bottom file dir\n",
    "raw_dir = \"../data/HB1906_EK60/rawfiles/\"\n",
    "bot_dir = \"../data/HB1906_EK60/botfiles/\"\n",
    "freq_li = [18, 38, 120, 200]"
   ]
  },
  {
   "cell_type": "code",
   "execution_count": 19,
   "metadata": {},
   "outputs": [],
   "source": [
    "raw_paths = sorted(glob.glob(raw_dir + '*.raw'))\n",
    "bot_paths = sorted(glob.glob(bot_dir + '*.bot'))"
   ]
  },
  {
   "cell_type": "code",
   "execution_count": 20,
   "metadata": {},
   "outputs": [],
   "source": [
    "fig_dir = \"figures/\""
   ]
  },
  {
   "cell_type": "code",
   "execution_count": 21,
   "metadata": {},
   "outputs": [],
   "source": [
    "threshold_li = [-54, -56, -58, -60, -62, -64, -66, -68, -70, -72, -74, -76, -78, -80]\n",
    "kernel_size = 3\n",
    "overlap_ratio = 0.4"
   ]
  },
  {
   "cell_type": "markdown",
   "metadata": {},
   "source": [
    "This process takes too long, try multiprocessing. Est. 15 hours. "
   ]
  },
  {
   "cell_type": "code",
   "execution_count": 22,
   "metadata": {},
   "outputs": [],
   "source": [
    "def test_threshold(a):\n",
    "    i, j = a\n",
    "    if i not in filename_li:\n",
    "        return\n",
    "    test_res = []\n",
    "    echogram = EchogramReader(i, j, freq_li)\n",
    "    filename, Sv_npy, surface_idx, bottom_idx, time, depth, positions = echogram()   \n",
    "    annotations_idx, labels = annotations_dict[filename] # get annotation xy indices directly\n",
    "    # different threshold\n",
    "    for threshold in threshold_li:\n",
    "        try:\n",
    "            roi = ROIDetector(filename, Sv_npy, surface_idx, bottom_idx, fig_dir, threshold, kernel_size)\n",
    "            img_shape, contours = roi()\n",
    "            features = FeatureExtractor(filename, contours, Sv_npy, bottom_idx, time, depth, positions)                    \n",
    "            contours_sel, contours_features = features() \n",
    "            overlap = OverlapAnnotation(filename, img_shape, annotations_idx, labels, contours_sel, fig_dir) \n",
    "            # object-level metrics\n",
    "            counts = overlap.object_overlap_count(overlap_ratio) # set threshold   \n",
    "            res_dict = {'filename': filename, 'threshold': threshold, 'kernel_size': kernel_size, 'overlap_ratio': overlap_ratio, 'annotations_valid': counts[0], 'annotations_all': counts[1], 'roi_valid': counts[2], 'roi_all': counts[3]}\n",
    "            test_res.append(res_dict)\n",
    "        except:\n",
    "            continue\n",
    "    return test_res"
   ]
  },
  {
   "cell_type": "code",
   "execution_count": 23,
   "metadata": {},
   "outputs": [
    {
     "name": "stdout",
     "output_type": "stream",
     "text": [
      "D20191031-T082513D20191016-T172436D20191022-T132948D20191024-T095448D20191018-T094014D20191013-T235243D20191101-T050239\n",
      "D20191019-T180235\n",
      "\n",
      "\n",
      "\n",
      "\n",
      "\n",
      "\n",
      "D20191101-T070625\n",
      "D20191102-T181031\n",
      "D20191031-T090628\n",
      "D20191016-T180614\n",
      "D20191104-T075532\n",
      "D20191024-T103607\n",
      "D20191101-T082855\n",
      "D20191031-T135513\n",
      "D20191024-T111726\n",
      "D20191023-T011904\n",
      "D20191101-T091010\n",
      "D20191018-T102152\n",
      "D20191031-T143628\n",
      "D20191016-T184753\n",
      "D20191031-T164013\n",
      "D20191102-T185145\n",
      "D20191024-T124006\n",
      "D20191101-T095125\n",
      "D20191031-T172127\n",
      "D20191101-T103240\n",
      "D20191024-T132127\n",
      "D20191031-T180242\n",
      "D20191016-T192932\n",
      "D20191023-T040559\n",
      "D20191101-T111355\n",
      "D20191031-T192512\n",
      "D20191024-T140246\n",
      "D20191104-T083636\n",
      "D20191101-T115511\n",
      "D20191031-T204742\n",
      "D20191102-T193300\n",
      "D20191101-T005509\n",
      "D20191018-T110329\n",
      "D20191024-T152526\n",
      "D20191101-T192858\n",
      "D20191101-T013623\n",
      "D20191024-T160645\n",
      "D20191101-T201013\n",
      "D20191016-T201110\n",
      "D20191101-T021737\n",
      "D20191101-T205128\n",
      "D20191024-T164804\n",
      "D20191023-T081620\n",
      "D20191102-T201415\n",
      "D20191101-T225534\n",
      "D20191105-T213450\n",
      "D20191024-T172924\n",
      "D20191104-T091741\n",
      "D20191102-T034418\n",
      "D20191024-T181044\n",
      "D20191102-T050647\n",
      "D20191018-T114507\n",
      "D20191024-T185203\n",
      "D20191016-T205247\n",
      "D20191102-T205530\n",
      "D20191024-T193322\n",
      "D20191105-T221554\n",
      "D20191023-T085802\n",
      "D20191024-T201442\n",
      "D20191102-T062916\n",
      "D20191104-T095846\n",
      "D20191024-T205602\n",
      "D20191018-T122644\n",
      "D20191107-T091032\n",
      "D20191102-T071031\n",
      "D20191016-T213424\n",
      "D20191102-T213644\n",
      "D20191105-T225657\n",
      "D20191023-T102129\n",
      "D20191104-T103951\n",
      "D20191102-T091417\n",
      "D20191107-T095133\n",
      "D20191018-T130822\n",
      "D20191102-T221759\n",
      "D20191016-T221602\n",
      "D20191105-T233801\n",
      "D20191023-T110312\n",
      "D20191104-T112055\n",
      "D20191102-T095531\n",
      "D20191018-T135000\n",
      "D20191107-T123537\n",
      "D20191102-T225915\n",
      "D20191104-T120200\n",
      "D20191018-T143139\n",
      "D20191107-T131637\n",
      "D20191023-T114454\n",
      "D20191106-T014121\n",
      "D20191108-T232615\n",
      "D20191102-T111802\n",
      "D20191107-T180358\n",
      "D20191102-T234030\n",
      "D20191104-T124305\n",
      "D20191018-T151318\n",
      "D20191107-T184513\n",
      "D20191107-T200721\n",
      "D20191109-T004807\n",
      "D20191107-T204822\n",
      "D20191023-T122637\n",
      "D20191018-T155456\n",
      "D20191102-T115917\n",
      "D20191107-T212922\n",
      "D20191104-T132409\n",
      "D20191103-T002144\n",
      "D20191106-T030330\n",
      "D20191109-T085929\n",
      "D20191018-T163634\n",
      "D20191107-T221024\n",
      "D20191023-T130820\n",
      "D20191104-T140514\n",
      "D20191103-T014413\n",
      "D20191102-T124032\n",
      "D20191109-T094025\n",
      "D20191106-T034434\n",
      "D20191104-T144618\n",
      "D20191018-T182017\n",
      "D20191103-T022528\n",
      "D20191107-T225126\n",
      "D20191023-T171842\n",
      "D20191102-T132147\n",
      "D20191104-T152723\n",
      "D20191019-T023033\n",
      "D20191109-T122413\n",
      "D20191110-T125836\n",
      "D20191108-T001328\n",
      "D20191112-T051413\n",
      "D20191106-T050645\n",
      "D20191110-T133934\n",
      "D20191104-T173037\n",
      "D20191103-T030643\n",
      "D20191110-T154224\n",
      "D20191109-T130509\n",
      "D20191110-T190705\n",
      "D20191102-T140303\n",
      "D20191110-T215049\n",
      "D20191109-T134607\n",
      "D20191105-T071212\n",
      "D20191112-T063606\n",
      "D20191108-T013532\n",
      "D20191109-T142705\n",
      "D20191110-T223145\n",
      "D20191103-T055141\n",
      "D20191106-T054750\n",
      "D20191110-T231242\n",
      "D20191109-T154858\n",
      "D20191112-T071702\n",
      "D20191102-T144417\n",
      "D20191110-T235339\n",
      "D20191105-T075316\n",
      "D20191109-T162955\n",
      "D20191108-T021633\n",
      "D20191111-T011531\n",
      "D20191109-T191341\n",
      "D20191103-T063255\n",
      "D20191112-T075800\n",
      "D20191106-T062854\n",
      "D20191109-T195440\n",
      "D20191102-T152531\n",
      "D20191108-T025734\n",
      "D20191105-T115942\n",
      "D20191109-T211636\n",
      "D20191106-T083209\n",
      "D20191111-T035917\n",
      "D20191112-T083857\n",
      "D20191103-T091807\n",
      "D20191109-T231926\n",
      "D20191108-T033835\n",
      "D20191105-T124047\n",
      "D20191106-T123840\n",
      "D20191111-T052110\n",
      "D20191102-T160647\n",
      "D20191106-T131944\n",
      "D20191112-T091953\n",
      "D20191110-T000023\n",
      "D20191108-T041936\n",
      "D20191103-T095931\n",
      "D20191111-T060207\n",
      "D20191105-T140257\n",
      "D20191106-T140048\n",
      "D20191110-T052757\n",
      "D20191112-T100049\n",
      "D20191102-T164802\n",
      "D20191111-T080459\n",
      "D20191111-T125136\n",
      "D20191108-T050036\n",
      "D20191106-T144152\n",
      "D20191110-T073046\n",
      "D20191105-T193135\n",
      "D20191111-T133232\n",
      "D20191103-T104049\n",
      "D20191106-T184821\n",
      "D20191112-T120338\n",
      "D20191108-T062245\n",
      "D20191111-T141328\n",
      "D20191112-T140628\n",
      "D20191102-T172917\n",
      "D20191106-T192927\n",
      "D20191111-T145426\n",
      "D20191112-T144725\n",
      "D20191103-T112204\n",
      "D20191106-T201032\n",
      "D20191108-T074447\n",
      "D20191112-T152821\n",
      "D20191111-T153522\n",
      "D20191106-T205138\n",
      "D20191103-T120319\n",
      "D20191108-T090649\n",
      "D20191111-T222448\n",
      "D20191112-T160917\n",
      "D20191107-T005805\n",
      "D20191103-T124434\n",
      "D20191108-T094750\n",
      "D20191107-T030120\n",
      "D20191112-T165015\n",
      "D20191103-T132548\n",
      "D20191108-T102850\n",
      "D20191112-T173112\n",
      "D20191103-T140703\n",
      "D20191107-T042322\n",
      "D20191113-T042613\n",
      "D20191103-T152932\n",
      "D20191113-T054806\n",
      "D20191108-T123154\n",
      "D20191113-T091247\n",
      "D20191107-T070730\n",
      "D20191103-T185503\n",
      "D20191113-T095343\n",
      "D20191113-T115632\n",
      "D20191108-T135356\n",
      "D20191103-T193608\n",
      "D20191108-T151540\n",
      "D20191103-T201711\n",
      "D20191108-T155632\n",
      "D20191103-T213922\n",
      "D20191108-T163724\n",
      "D20191108-T184002\n",
      "D20191103-T222027\n",
      "D20191108-T192053\n",
      "D20191108-T200144\n",
      "D20191103-T230131\n",
      "D20191108-T212331\n",
      "D20191104-T002341\n",
      "D20191104-T010446\n",
      "D20191104-T014550\n",
      "D20191104-T022654\n",
      "D20191104-T051113\n",
      "D20191104-T055217\n"
     ]
    }
   ],
   "source": [
    "from multiprocessing import Pool\n",
    "# res = []\n",
    "pool = Pool(os.cpu_count())\n",
    "res_li = pool.map(test_threshold, zip(raw_paths, bot_paths)) # a list of results"
   ]
  },
  {
   "cell_type": "markdown",
   "metadata": {},
   "source": [
    "Get recall/precision/F1 at different Sv threshold. "
   ]
  },
  {
   "cell_type": "code",
   "execution_count": 24,
   "metadata": {},
   "outputs": [],
   "source": [
    "# flat res [[], [], []]\n",
    "res = []\n",
    "for sublist in res_li:\n",
    "    if sublist == None:\n",
    "        continue\n",
    "    for item in sublist:\n",
    "        res.append(item)\n",
    "df_threshold = pd.DataFrame(res)"
   ]
  },
  {
   "cell_type": "code",
   "execution_count": 25,
   "metadata": {},
   "outputs": [],
   "source": [
    "pkl_dir = \"pkl/\"\n",
    "df_threshold.to_pickle(pkl_dir + 'df_threshold.pkl')"
   ]
  },
  {
   "cell_type": "code",
   "execution_count": 26,
   "metadata": {},
   "outputs": [],
   "source": [
    "pool.close()\n",
    "pool.join()"
   ]
  },
  {
   "cell_type": "code",
   "execution_count": 33,
   "metadata": {},
   "outputs": [
    {
     "name": "stdout",
     "output_type": "stream",
     "text": [
      "threshold: -54, recall: 0.05463182897862233, precision: 0.440337909186906, F1: 0.048601891171492564\n",
      "threshold: -56, recall: 0.08123515439429929, precision: 0.46337579617834396, F1: 0.0691179718394373\n",
      "threshold: -58, recall: 0.11401425178147269, precision: 0.473967684021544, F1: 0.09190600522193212\n",
      "threshold: -60, recall: 0.1667458432304038, precision: 0.49513776337115073, F1: 0.12473819119415061\n",
      "threshold: -62, recall: 0.28741092636579574, precision: 0.509112426035503, F1: 0.1837039347937177\n",
      "threshold: -64, recall: 0.643230403800475, precision: 0.41631186801490155, F1: 0.252735976745264\n",
      "threshold: -66, recall: 0.9135391923990499, precision: 0.17770936822220668, F1: 0.14876947249766456\n",
      "threshold: -68, recall: 0.9434679334916865, precision: 0.05685845712992987, F1: 0.05362662782151073\n",
      "threshold: -70, recall: 0.8679334916864608, precision: 0.02342840831741431, F1: 0.022812619919587232\n",
      "threshold: -72, recall: 0.8038004750593825, precision: 0.01125058520599251, F1: 0.011095287368043456\n",
      "threshold: -74, recall: 0.7116389548693587, precision: 0.005895964751006435, F1: 0.00584751777038631\n",
      "threshold: -76, recall: 0.6180522565320665, precision: 0.003278993315248164, F1: 0.003261688862648871\n",
      "threshold: -78, recall: 0.5054631828978622, precision: 0.0018704237346127235, F1: 0.001863527907288718\n",
      "threshold: -80, recall: 0.4199524940617577, precision: 0.0012190977199178401, F1: 0.0012155689936701323\n"
     ]
    }
   ],
   "source": [
    "# check performance\n",
    "res_plot = []\n",
    "for threshold in threshold_li:\n",
    "    df = df_threshold[df_threshold['threshold']==threshold]\n",
    "    recall = df['annotations_valid'].sum() / df['annotations_all'].sum()\n",
    "    precision = df['roi_valid'].sum() / df['roi_all'].sum()\n",
    "    F1 = 1.0/(1.0/recall + 1.0/precision)\n",
    "    res_plot.append({'threshold': threshold, 'recall': recall, 'precision': precision, 'F1': F1})\n",
    "    print(f'threshold: {threshold}, recall: {recall}, precision: {precision}, F1: {F1}')"
   ]
  },
  {
   "cell_type": "code",
   "execution_count": 35,
   "metadata": {},
   "outputs": [
    {
     "data": {
      "image/png": "[encoded data removed]",
      "text/plain": [
       "<Figure size 432x288 with 1 Axes>"
      ]
     },
     "metadata": {
      "needs_background": "light"
     },
     "output_type": "display_data"
    }
   ],
   "source": [
    "df_group = pd.DataFrame(res_plot)\n",
    "lines = df_group.plot.line(x='threshold', y='F1')"
   ]
  },
  {
   "cell_type": "code",
   "execution_count": 36,
   "metadata": {},
   "outputs": [
    {
     "data": {
      "image/png": "[encoded data removed]",
      "text/plain": [
       "<Figure size 432x288 with 1 Axes>"
      ]
     },
     "metadata": {
      "needs_background": "light"
     },
     "output_type": "display_data"
    }
   ],
   "source": [
    "lines = df_group.plot.line(x='threshold', y='recall')"
   ]
  },
  {
   "cell_type": "markdown",
   "metadata": {},
   "source": [
    "## Step 4. Check depth issue\n",
    "\n",
    "The original echogram's depth starts at 7.5m, while annotations start at 6m, add 1.5m as offset. "
   ]
  },
  {
   "cell_type": "code",
   "execution_count": null,
   "metadata": {},
   "outputs": [],
   "source": [
    "print(depth) # depth varies, 6m or 7.5m, annotations, buffer 6m, add offset"
   ]
  }
 ],
 "metadata": {
  "kernelspec": {
   "display_name": "Python 3",
   "language": "python",
   "name": "python3"
  },
  "language_info": {
   "codemirror_mode": {
    "name": "ipython",
    "version": 3
   },
   "file_extension": ".py",
   "mimetype": "text/x-python",
   "name": "python",
   "nbconvert_exporter": "python",
   "pygments_lexer": "ipython3",
   "version": "3.8.5"
  }
 },
 "nbformat": 4,
 "nbformat_minor": 5
}
