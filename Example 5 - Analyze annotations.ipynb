{
 "cells": [
  {
   "cell_type": "markdown",
   "id": "19357041",
   "metadata": {},
   "source": [
    "# Example 5 - Analyze annotations\n",
    "\n",
    "In this notebook, we'll examine typical features of different annotations. "
   ]
  },
  {
   "cell_type": "code",
   "execution_count": 52,
   "id": "54c94350",
   "metadata": {},
   "outputs": [],
   "source": [
    "import os\n",
    "import numpy as np\n",
    "import pandas as pd\n",
    "import glob\n",
    "import pickle\n",
    "import seaborn as sns\n",
    "import matplotlib.pyplot as plt\n",
    "\n",
    "sns.set(font_scale=1.2)\n",
    "plt.style.use('seaborn-white')\n",
    "%matplotlib inline"
   ]
  },
  {
   "cell_type": "markdown",
   "id": "6b983dcf",
   "metadata": {},
   "source": [
    "## Step 1. Load annotations\n",
    "\n",
    "In this step, we'll load all annotations. "
   ]
  },
  {
   "cell_type": "code",
   "execution_count": 2,
   "id": "3780e67d",
   "metadata": {},
   "outputs": [],
   "source": [
    "# load original annotations (mask)\n",
    "annotations_dir = \"../csv/\"\n",
    "annotations = pd.read_csv(annotations_dir + \"annotation_df_masks.csv\")\n",
    "# drop nan\n",
    "annotations = annotations.dropna(how='any')"
   ]
  },
  {
   "cell_type": "code",
   "execution_count": 3,
   "id": "327f7e0f",
   "metadata": {},
   "outputs": [
    {
     "name": "stdout",
     "output_type": "stream",
     "text": [
      "Index(['Unnamed: 0', 'label', 'start_Date', 'start_Time', 'end_Date',\n",
      "       'end_Time', 'start_Depth', 'end_Depth', 'mask', 'file_dir'],\n",
      "      dtype='object')\n"
     ]
    }
   ],
   "source": [
    "print(annotations.columns)"
   ]
  },
  {
   "cell_type": "code",
   "execution_count": 4,
   "id": "6e22e6d7",
   "metadata": {},
   "outputs": [
    {
     "name": "stdout",
     "output_type": "stream",
     "text": [
      "label\n",
      "AH_School               117.638394\n",
      "Unclassified regions     13.526012\n",
      "atlantic_herring         54.579208\n",
      "fish_school              29.014150\n",
      "krill_schools            70.000000\n",
      "possible_herring         17.821782\n",
      "Name: depth, dtype: float64\n"
     ]
    }
   ],
   "source": [
    "# get median depth\n",
    "annotations['depth'] = (annotations['start_Depth'] + annotations['end_Depth']) / 2.0\n",
    "annotations_groupby_depth = annotations.groupby('label')['depth'].median()\n",
    "print(annotations_groupby_depth)"
   ]
  },
  {
   "cell_type": "code",
   "execution_count": 11,
   "id": "6da66467",
   "metadata": {},
   "outputs": [
    {
     "name": "stdout",
     "output_type": "stream",
     "text": [
      "label\n",
      "AH_School                  504.0\n",
      "Unclassified regions      5440.0\n",
      "atlantic_herring        114048.0\n",
      "fish_school                315.0\n",
      "krill_schools              249.0\n",
      "possible_herring          1292.0\n",
      "Name: size, dtype: float64\n"
     ]
    }
   ],
   "source": [
    "# load size file\n",
    "annotations_size = pd.read_csv(annotations_dir + \"annotation_size_df.csv\")\n",
    "print(annotations_size.groupby('label')['size'].median())"
   ]
  },
  {
   "cell_type": "markdown",
   "id": "5780f52a",
   "metadata": {},
   "source": [
    "The above annotation data don't contain detailed size information. Try loading the .pkl file. "
   ]
  },
  {
   "cell_type": "code",
   "execution_count": 5,
   "id": "b359e395",
   "metadata": {},
   "outputs": [],
   "source": [
    "pkl_dir = \"../pkl/\"\n",
    "annotations_pkl = pd.read_pickle(pkl_dir + \"annotation_fish_school_features_2019.pickle\")"
   ]
  },
  {
   "cell_type": "code",
   "execution_count": 8,
   "id": "7d48fbdb",
   "metadata": {},
   "outputs": [
    {
     "name": "stdout",
     "output_type": "stream",
     "text": [
      "['fish_school' 'Unclassified regions' 'AH_School']\n",
      "Index(['echogram_id', 'width', 'height', 'Sv_18kHz', 'Sv_38kHz', 'Sv_120kHz',\n",
      "       'Sv_200kHz', 'time', 'depth', 'total_water_column', 'latitude',\n",
      "       'longitude', 'speed', 'x_min', 'x_max', 'y_min', 'y_max', 'center_x',\n",
      "       'center_y', 'label'],\n",
      "      dtype='object')\n"
     ]
    }
   ],
   "source": [
    "print(annotations_pkl['label'].unique())\n",
    "print(annotations_pkl.columns)"
   ]
  },
  {
   "cell_type": "code",
   "execution_count": 9,
   "id": "253ba1b9",
   "metadata": {},
   "outputs": [
    {
     "name": "stdout",
     "output_type": "stream",
     "text": [
      "label\n",
      "AH_School               317.711112\n",
      "Unclassified regions    664.974566\n",
      "fish_school             171.910885\n",
      "Name: size, dtype: float64\n"
     ]
    }
   ],
   "source": [
    "# get size\n",
    "annotations_pkl['size'] = annotations_pkl['width'] * annotations_pkl['height']\n",
    "print(annotations_pkl.groupby('label')['size'].median())"
   ]
  },
  {
   "cell_type": "markdown",
   "id": "0c89500d",
   "metadata": {},
   "source": [
    "Estimate Krill school median size: 136 m^2. "
   ]
  },
  {
   "cell_type": "markdown",
   "id": "2c6e06cc",
   "metadata": {},
   "source": [
    "Actually, vessel speed varied a lot. "
   ]
  },
  {
   "cell_type": "code",
   "execution_count": 12,
   "id": "8dd12660",
   "metadata": {},
   "outputs": [
    {
     "name": "stdout",
     "output_type": "stream",
     "text": [
      "0.021291624621594354 13.3\n"
     ]
    }
   ],
   "source": [
    "print(annotations_pkl['speed'].min(), annotations_pkl['speed'].max())"
   ]
  },
  {
   "cell_type": "markdown",
   "id": "bcd3c86e",
   "metadata": {},
   "source": [
    "## Step 2. Analyze Atlantic herring schools\n",
    "\n",
    "In this step, we'll analyze the characteristics of Atlantic herring schools. "
   ]
  },
  {
   "cell_type": "code",
   "execution_count": 29,
   "id": "35083dfa",
   "metadata": {},
   "outputs": [],
   "source": [
    "annotation_df_AH = annotations_pkl[annotations_pkl['label']=='AH_School']"
   ]
  },
  {
   "cell_type": "code",
   "execution_count": 37,
   "id": "0ffc4c2b",
   "metadata": {},
   "outputs": [],
   "source": [
    "# cut into bins\n",
    "annotation_df_AH['aspect_ratio'] = annotation_df_AH['width'] / annotation_df_AH['height']\n",
    "annotation_df_AH = annotation_df_AH[annotation_df_AH['depth'] <= 250] # remove very bottom, with seabed echoes!!!\n",
    "annotation_df_AH = annotation_df_AH.sort_values('depth')\n",
    "annotation_df_AH['depth_range'] = pd.cut(annotation_df_AH['depth'], [0, 50, 100, 150, 200, 250])\n",
    "colors = sns.color_palette(palette=\"Blues\", n_colors=5)"
   ]
  },
  {
   "cell_type": "code",
   "execution_count": 31,
   "id": "fde9e11b",
   "metadata": {},
   "outputs": [],
   "source": [
    "fig_dir = \"figures/\""
   ]
  },
  {
   "cell_type": "markdown",
   "id": "c76fce1e",
   "metadata": {},
   "source": [
    "Get lineplots (Sv values & depth). "
   ]
  },
  {
   "cell_type": "code",
   "execution_count": 62,
   "id": "226d5b9a",
   "metadata": {},
   "outputs": [],
   "source": [
    "for idx, i in enumerate(annotation_df_AH['depth_range'].unique()):\n",
    "    annotation_df_AH_sel = annotation_df_AH[annotation_df_AH['depth_range'] == i]\n",
    "    Sv_values = annotation_df_AH_sel[['Sv_18kHz', 'Sv_38kHz', 'Sv_120kHz', 'Sv_200kHz']].median()\n",
    "    sns.lineplot(x=range(4), y=Sv_values, marker=\"o\", linewidth=3, label=i, color=colors[idx])\n",
    "plt.xticks(range(4), ['18', '38', '120', '200'], fontsize=17)\n",
    "plt.xlabel('Frequency (kHz)', fontsize=22)\n",
    "plt.ylabel('Median Sv value', fontsize=22)\n",
    "plt.yticks(fontsize=17)\n",
    "plt.ylim(-68, -53)\n",
    "plt.legend(prop={'size':16})\n",
    "ax = plt.gca()\n",
    "ax.grid(True, linestyle='--', linewidth=0.5)\n",
    "plt.tight_layout(pad=0.1)\n",
    "plt.savefig(fig_dir + \"annotation_AH_Sv_by_depth_2019.png\", dpi=300)\n",
    "plt.close()"
   ]
  },
  {
   "cell_type": "markdown",
   "id": "a291ca03",
   "metadata": {},
   "source": [
    "Get boxplots (Aspect ratio & depth). "
   ]
  },
  {
   "cell_type": "code",
   "execution_count": 63,
   "id": "a5177924",
   "metadata": {},
   "outputs": [],
   "source": [
    "sns.boxplot(x=\"depth_range\", y=\"aspect_ratio\", data=annotation_df_AH, palette='Blues', showfliers=False, medianprops=dict(linewidth=2, alpha=1, linestyle='--', color='black'))\n",
    "plt.xticks(fontsize=16)\n",
    "plt.xlabel('Depth range (m)', fontsize=22)\n",
    "plt.ylabel('Aspect ratio', fontsize=22)\n",
    "plt.yticks(fontsize=17)\n",
    "ax = plt.gca()\n",
    "ax.grid(True, linestyle='--', linewidth=0.5)\n",
    "plt.tight_layout(pad=0.1)\n",
    "plt.savefig(fig_dir + \"annotation_AH_shape_by_depth_2019.png\", dpi=300)\n",
    "plt.close()"
   ]
  }
 ],
 "metadata": {
  "kernelspec": {
   "display_name": "Python 3 (ipykernel)",
   "language": "python",
   "name": "python3"
  },
  "language_info": {
   "codemirror_mode": {
    "name": "ipython",
    "version": 3
   },
   "file_extension": ".py",
   "mimetype": "text/x-python",
   "name": "python",
   "nbconvert_exporter": "python",
   "pygments_lexer": "ipython3",
   "version": "3.8.2"
  }
 },
 "nbformat": 4,
 "nbformat_minor": 5
}
