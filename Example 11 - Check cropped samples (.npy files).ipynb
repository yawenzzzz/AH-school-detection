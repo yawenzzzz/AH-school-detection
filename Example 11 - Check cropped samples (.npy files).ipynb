{
 "cells": [
  {
   "cell_type": "markdown",
   "metadata": {},
   "source": [
    "# Example 11 - Check cropped samples\n",
    "\n",
    "In this notebook, we'll check the cropped samples, to see if they successfully capture Atlantic herring. "
   ]
  },
  {
   "cell_type": "code",
   "execution_count": 5,
   "metadata": {},
   "outputs": [],
   "source": [
    "import os\n",
    "import numpy as np\n",
    "import cv2\n",
    "import pickle\n",
    "from PIL import Image\n",
    "import matplotlib.pyplot as plt\n",
    "\n",
    "sns.set(font_scale=1.2)\n",
    "plt.style.use('seaborn-white')\n",
    "%matplotlib inline"
   ]
  },
  {
   "cell_type": "code",
   "execution_count": 68,
   "metadata": {},
   "outputs": [],
   "source": [
    "# select sample\n",
    "npy_dir = \"npy/train/threshold_-66/\"\n",
    "sample_name = \"D20191109-T150801_560_164.7694635093212_27.397839665412903_0.16627983779204922_43.11068453103914_-69.94892833333333_2019-11-09T15:36:58.322_3.npy\""
   ]
  },
  {
   "cell_type": "code",
   "execution_count": 69,
   "metadata": {},
   "outputs": [],
   "source": [
    "sample = np.load(npy_dir + sample_name) # 4 channels"
   ]
  },
  {
   "cell_type": "code",
   "execution_count": 70,
   "metadata": {},
   "outputs": [],
   "source": [
    "sample = sample[:, :, :3] # first 3 channels\n",
    "img = Image.fromarray(sample, 'RGB') # G - 38kHz\n",
    "# save\n",
    "fig_dir = \"figures/\"\n",
    "img.save(fig_dir + 'npy_sample.png')"
   ]
  },
  {
   "cell_type": "code",
   "execution_count": null,
   "metadata": {},
   "outputs": [],
   "source": []
  }
 ],
 "metadata": {
  "kernelspec": {
   "display_name": "Python 3",
   "language": "python",
   "name": "python3"
  },
  "language_info": {
   "codemirror_mode": {
    "name": "ipython",
    "version": 3
   },
   "file_extension": ".py",
   "mimetype": "text/x-python",
   "name": "python",
   "nbconvert_exporter": "python",
   "pygments_lexer": "ipython3",
   "version": "3.7.1"
  }
 },
 "nbformat": 4,
 "nbformat_minor": 5
}
