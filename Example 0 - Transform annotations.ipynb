{
 "cells": [
  {
   "cell_type": "markdown",
   "metadata": {},
   "source": [
    "# Example 0 - Transform annotations\n",
    "\n",
    "In this notebook, for each echogram with annotations, we'll save it as filename: [annotations, labels]. "
   ]
  },
  {
   "cell_type": "code",
   "execution_count": 1,
   "metadata": {},
   "outputs": [],
   "source": [
    "import os\n",
    "import numpy as np\n",
    "import pandas as pd\n",
    "import glob\n",
    "import pickle\n",
    "\n",
    "from src.read_echogram import EchogramReader\n",
    "from src.detect_ROI import ROIDetector\n",
    "from src.ROI_features import FeatureExtractor\n",
    "from src.transform_annotations import AnnotationTransformer\n",
    "from src.match_annotations import OverlapAnnotation\n",
    "from src.crop_ROI import ROICropper\n",
    "\n",
    "%matplotlib inline"
   ]
  },
  {
   "cell_type": "markdown",
   "metadata": {},
   "source": [
    "## Step 1. Load annotations\n",
    "\n",
    "In this step, we'll load all echograms in 2019 (in total, 1710 echograms), see how it works. "
   ]
  },
  {
   "cell_type": "code",
   "execution_count": 26,
   "metadata": {},
   "outputs": [],
   "source": [
    "# load annotations (mask)\n",
    "annotations_dir = \"../csv/\"\n",
    "annotations = pd.read_csv(annotations_dir + \"annotation_df_masks.csv\")\n",
    "# drop nan\n",
    "annotations = annotations.dropna(how='any')\n",
    "# add label map\n",
    "label_map = {'Unclassified regions': 1, 'krill_schools': 2, 'fish_school': 3, 'AH_School': 4}"
   ]
  },
  {
   "cell_type": "code",
   "execution_count": 27,
   "metadata": {},
   "outputs": [
    {
     "name": "stdout",
     "output_type": "stream",
     "text": [
      "0        ../data/HB1906_EK60/rawfiles/D20190925-T220811...\n",
      "1        ../data/HB1906_EK60/rawfiles/D20190925-T204502...\n",
      "2        ../data/HB1906_EK60/rawfiles/D20190925-T135327...\n",
      "3        ../data/HB1906_EK60/rawfiles/D20190925-T171712...\n",
      "4        ../data/HB1906_EK60/rawfiles/D20190925-T175846...\n",
      "                               ...                        \n",
      "92770    ../data/HB1906_EK60/rawfiles/D20191114-T074340...\n",
      "92771    ../data/HB1906_EK60/rawfiles/D20191114-T094630...\n",
      "92772    ../data/HB1906_EK60/rawfiles/D20191114-T074340...\n",
      "92773    ../data/HB1906_EK60/rawfiles/D20191114-T123017...\n",
      "92774    ../data/HB1906_EK60/rawfiles/D20191114-T102727...\n",
      "Name: file_dir, Length: 91877, dtype: object\n"
     ]
    }
   ],
   "source": [
    "print(annotations['file_dir'])"
   ]
  },
  {
   "cell_type": "code",
   "execution_count": 28,
   "metadata": {},
   "outputs": [
    {
     "name": "stdout",
     "output_type": "stream",
     "text": [
      "861\n"
     ]
    }
   ],
   "source": [
    "filename_li = annotations['file_dir'].unique()\n",
    "print(len(filename_li))\n",
    "filename_li.sort()"
   ]
  },
  {
   "cell_type": "markdown",
   "metadata": {},
   "source": [
    "## Step 2. Transform annotations and save\n",
    "\n",
    "In this step, we'll load echograms with annotations, and transform them into xy indices, save as dict. \n",
    "Est. 24 hours -> change to multiprocessing, Est. 12 hours"
   ]
  },
  {
   "cell_type": "code",
   "execution_count": 29,
   "metadata": {},
   "outputs": [],
   "source": [
    "# add raw and bottom file dir\n",
    "raw_dir = \"../data/HB1906_EK60/rawfiles/\"\n",
    "bot_dir = \"../data/HB1906_EK60/botfiles/\"\n",
    "freq_li = [18, 38, 120, 200]"
   ]
  },
  {
   "cell_type": "code",
   "execution_count": 30,
   "metadata": {},
   "outputs": [],
   "source": [
    "raw_paths = sorted(glob.glob(raw_dir + '*.raw'))\n",
    "bot_paths = sorted(glob.glob(bot_dir + '*.bot'))"
   ]
  },
  {
   "cell_type": "code",
   "execution_count": 32,
   "metadata": {},
   "outputs": [],
   "source": [
    "def transform_annotations(a):\n",
    "    i, j = a[0], a[1]\n",
    "    if i not in filename_li:\n",
    "        return\n",
    "    echogram = EchogramReader(i, j, freq_li)\n",
    "    filename, Sv_npy, surface_idx, bottom_idx, time, depth, positions = echogram()   \n",
    "    transform = AnnotationTransformer(annotations, filename, depth, time, label_map) # very time consuming!\n",
    "    annotations_idx, labels = transform() \n",
    "    # add\n",
    "    return {filename: [annotations_idx, labels]}"
   ]
  },
  {
   "cell_type": "code",
   "execution_count": null,
   "metadata": {},
   "outputs": [],
   "source": [
    "from multiprocessing import Pool\n",
    "pool = Pool(os.cpu_count())\n",
    "res_li = pool.map(transform_annotations, zip(raw_paths, bot_paths)) # a list of results"
   ]
  },
  {
   "cell_type": "code",
   "execution_count": 37,
   "metadata": {},
   "outputs": [],
   "source": [
    "annotations_dict = {} # merge\n",
    "for d in res_li:\n",
    "    if d == None:\n",
    "        continue\n",
    "    annotations_dict.update(d)"
   ]
  },
  {
   "cell_type": "code",
   "execution_count": 38,
   "metadata": {},
   "outputs": [],
   "source": [
    "# merge into one dict\n",
    "pkl_dir = \"pkl/\"\n",
    "with open(pkl_dir + 'annotations_dict_new.pickle', 'wb') as handle:\n",
    "    pickle.dump(annotations_dict, handle, protocol=pickle.HIGHEST_PROTOCOL)"
   ]
  },
  {
   "cell_type": "code",
   "execution_count": 39,
   "metadata": {},
   "outputs": [],
   "source": [
    "pool.close()\n",
    "pool.join()"
   ]
  },
  {
   "cell_type": "code",
   "execution_count": 1,
   "metadata": {},
   "outputs": [],
   "source": [
    "# NOTE: use annotations_dict_new_p4.pickle, with protocol=4"
   ]
  }
 ],
 "metadata": {
  "kernelspec": {
   "display_name": "Python 3",
   "language": "python",
   "name": "python3"
  },
  "language_info": {
   "codemirror_mode": {
    "name": "ipython",
    "version": 3
   },
   "file_extension": ".py",
   "mimetype": "text/x-python",
   "name": "python",
   "nbconvert_exporter": "python",
   "pygments_lexer": "ipython3",
   "version": "3.8.5"
  }
 },
 "nbformat": 4,
 "nbformat_minor": 5
}
