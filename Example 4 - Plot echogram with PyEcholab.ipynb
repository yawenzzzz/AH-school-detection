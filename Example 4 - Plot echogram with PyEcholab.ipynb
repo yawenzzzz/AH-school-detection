{
 "cells": [
  {
   "cell_type": "markdown",
   "metadata": {},
   "source": [
    "# Example 4 - Plot echogram with PyEcholab\n",
    "\n",
    "In this example, we'll use PyEcholab to plot some example echograms in 2019. "
   ]
  },
  {
   "cell_type": "code",
   "execution_count": 28,
   "metadata": {},
   "outputs": [],
   "source": [
    "import os\n",
    "import glob\n",
    "import numpy as np\n",
    "import cv2\n",
    "import seaborn as sns\n",
    "import matplotlib.pyplot as plt\n",
    "from datetime import datetime, timedelta\n",
    "import pickle\n",
    "import pandas as pd\n",
    "\n",
    "from echolab2.instruments import EK60\n",
    "from echolab2.processing import align_pings\n",
    "from echolab2.processing.mask import Mask\n",
    "from echolab2.processing.line import Line\n",
    "from echolab2.plotting.matplotlib import echogram\n",
    "from echolab2.processing import mask, line\n",
    "import matplotlib.patches as patches\n",
    "\n",
    "from src.read_echogram_plotting import EchogramReader\n",
    "\n",
    "from sklearn.preprocessing import StandardScaler, MinMaxScaler\n",
    "\n",
    "sns.set(font_scale=1.2)\n",
    "plt.style.use('seaborn-white')\n",
    "%matplotlib inline"
   ]
  },
  {
   "cell_type": "markdown",
   "metadata": {},
   "source": [
    "## Step 1. Plot echogram only\n",
    "\n",
    "In this step, we'll plot echogram only, without annotations. "
   ]
  },
  {
   "cell_type": "code",
   "execution_count": 2,
   "metadata": {},
   "outputs": [],
   "source": [
    "test_examples = ['D20190925-T204502', 'D20190926-T230434', 'D20191001-T065053', 'D20191001-T085625', 'D20191001-T155448', 'D20191002-T112235', 'D20191015-T203008', 'D20190927-T072325', 'D20191016-T184753', 'D20191016-T213424', 'D20191018-T081659', 'D20191018-T110329', 'D20191020-T145420', 'D20191024-T103607', 'D20191024-T172924', 'D20191102-T144417', 'D20191102-T160647'] # 10"
   ]
  },
  {
   "cell_type": "code",
   "execution_count": 3,
   "metadata": {},
   "outputs": [],
   "source": [
    "# add raw and bottom file dir\n",
    "raw_dir = \"../data/HB1906_EK60/rawfiles/\"\n",
    "bot_dir = \"../data/HB1906_EK60/botfiles/\"\n",
    "freq_li = [18, 38, 120, 200]"
   ]
  },
  {
   "cell_type": "code",
   "execution_count": 4,
   "metadata": {},
   "outputs": [],
   "source": [
    "# add fig dir\n",
    "fig_dir = \"figures/\""
   ]
  },
  {
   "cell_type": "code",
   "execution_count": 10,
   "metadata": {},
   "outputs": [
    {
     "name": "stdout",
     "output_type": "stream",
     "text": [
      "D20190925-T204502\n",
      "D20190926-T230434\n",
      "D20191001-T065053\n",
      "D20191001-T085625\n",
      "D20191001-T155448\n",
      "D20191002-T112235\n",
      "D20191015-T203008\n",
      "D20190927-T072325\n",
      "D20191016-T184753\n",
      "D20191016-T213424\n",
      "D20191018-T081659\n",
      "D20191018-T110329\n",
      "D20191020-T145420\n",
      "D20191024-T103607\n",
      "D20191024-T172924\n",
      "D20191102-T144417\n",
      "D20191102-T160647\n"
     ]
    }
   ],
   "source": [
    "for item in test_examples:\n",
    "    raw_path = os.path.join(raw_dir, item + '.raw')\n",
    "    bot_path = os.path.join(bot_dir, item + '.bot')\n",
    "    new_echogram = EchogramReader(raw_path, bot_path, freq_li)\n",
    "    filename, Sv_data, interp, depth = new_echogram() \n",
    "    plot_depth = np.max(interp) + 5 # set maximum depth\n",
    "    # plot\n",
    "    fig = plt.figure(figsize=[25, 15])\n",
    "    ax = fig.add_subplot(111)\n",
    "    eg = echogram.Echogram(ax, Sv_data[1], threshold=[-66, 0]) # use -66dB as threshold\n",
    "    xmin, xmax, ymin, ymax = plt.axis()\n",
    "    ax.grid(False)\n",
    "    plt.ylim((depth[0], plot_depth)) \n",
    "    plt.gca().invert_yaxis()\n",
    "    plt.ylabel('Depth (m)', fontsize=50)\n",
    "    plt.xlabel(filename, fontsize=50)\n",
    "    plt.yticks(fontsize=40)\n",
    "    plt.xticks(fontsize=40)\n",
    "    plt.tight_layout(pad=0.1)\n",
    "    plt.savefig(fig_dir + filename + '.png', dpi=300)\n",
    "    plt.close()"
   ]
  },
  {
   "cell_type": "markdown",
   "metadata": {},
   "source": [
    "## Step 2. Draw output of each step (for framework)\n",
    "\n",
    "In this step, we'll draw output of each step for framework. "
   ]
  },
  {
   "cell_type": "code",
   "execution_count": 5,
   "metadata": {},
   "outputs": [],
   "source": [
    "item = 'D20191024-T103607'"
   ]
  },
  {
   "cell_type": "markdown",
   "metadata": {},
   "source": [
    "Draw original image. "
   ]
  },
  {
   "cell_type": "code",
   "execution_count": 6,
   "metadata": {},
   "outputs": [
    {
     "name": "stdout",
     "output_type": "stream",
     "text": [
      "D20191024-T103607\n"
     ]
    }
   ],
   "source": [
    "raw_path = os.path.join(raw_dir, item + '.raw')\n",
    "bot_path = os.path.join(bot_dir, item + '.bot')\n",
    "new_echogram = EchogramReader(raw_path, bot_path, freq_li)\n",
    "filename, Sv_data, interp, depth = new_echogram() \n",
    "plot_depth = np.max(interp) + 10 # set maximum depth\n",
    "# plot\n",
    "fig = plt.figure(figsize=[25, 15])\n",
    "ax = fig.add_subplot(111)\n",
    "eg = echogram.Echogram(ax, Sv_data[1], threshold=[-80, 0]) # use -80dB as threshold\n",
    "xmin, xmax, ymin, ymax = plt.axis()\n",
    "ax.grid(False)\n",
    "plt.ylim((depth[0], plot_depth)) \n",
    "plt.gca().invert_yaxis()\n",
    "plt.ylabel('Depth (m)', fontsize=50)\n",
    "plt.xlabel(filename, fontsize=50)\n",
    "plt.yticks(fontsize=40)\n",
    "plt.xticks(fontsize=40)\n",
    "plt.tight_layout(pad=0.1)\n",
    "plt.savefig(fig_dir + 'origin_image.png', dpi=300)\n",
    "plt.close()"
   ]
  },
  {
   "cell_type": "markdown",
   "metadata": {},
   "source": [
    "Draw contour image. "
   ]
  },
  {
   "cell_type": "code",
   "execution_count": 18,
   "metadata": {},
   "outputs": [],
   "source": [
    "# load\n",
    "from src.read_echogram import EchogramReader\n",
    "from src.detect_ROI import ROIDetector\n",
    "from src.ROI_features import FeatureExtractor"
   ]
  },
  {
   "cell_type": "code",
   "execution_count": 13,
   "metadata": {},
   "outputs": [],
   "source": [
    "threshold = -66\n",
    "kernel_size = 3"
   ]
  },
  {
   "cell_type": "code",
   "execution_count": 19,
   "metadata": {},
   "outputs": [
    {
     "name": "stdout",
     "output_type": "stream",
     "text": [
      "D20191024-T103607\n"
     ]
    }
   ],
   "source": [
    "# detect ROI\n",
    "echogram = EchogramReader(raw_path, bot_path, freq_li)\n",
    "filename, Sv_npy, surface_idx, bottom_idx, time, depth, positions = echogram()   \n",
    "roi = ROIDetector(filename, Sv_npy, surface_idx, bottom_idx, fig_dir, threshold, kernel_size)\n",
    "img_shape, contours = roi()\n",
    "features = FeatureExtractor(filename, contours, Sv_npy, bottom_idx, time, depth, positions)                    \n",
    "contours_sel, contours_features = features() "
   ]
  },
  {
   "cell_type": "code",
   "execution_count": 22,
   "metadata": {},
   "outputs": [
    {
     "data": {
      "text/plain": [
       "True"
      ]
     },
     "execution_count": 22,
     "metadata": {},
     "output_type": "execute_result"
    }
   ],
   "source": [
    "img = np.zeros([img_shape[0], img_shape[1], 3], dtype=np.int32)\n",
    "cv2.drawContours(img, contours_sel, -1, (0, 255, 0), thickness=2)\n",
    "cv2.imwrite(fig_dir + 'contour_image.png', img)"
   ]
  },
  {
   "cell_type": "markdown",
   "metadata": {},
   "source": [
    "Draw object outline, use polygons. "
   ]
  },
  {
   "cell_type": "code",
   "execution_count": 25,
   "metadata": {},
   "outputs": [],
   "source": [
    "from src.read_echogram_plotting import EchogramReader"
   ]
  },
  {
   "cell_type": "code",
   "execution_count": 27,
   "metadata": {},
   "outputs": [
    {
     "name": "stdout",
     "output_type": "stream",
     "text": [
      "D20191024-T103607\n"
     ]
    }
   ],
   "source": [
    "new_echogram = EchogramReader(raw_path, bot_path, freq_li)\n",
    "filename, Sv_data, interp, depth = new_echogram() \n",
    "plot_depth = np.max(interp) + 10 # set maximum depth\n",
    "# plot\n",
    "fig = plt.figure(figsize=[25, 15])\n",
    "ax = fig.add_subplot(111)\n",
    "eg = echogram.Echogram(ax, Sv_data[1], threshold=[-80, 0]) # use -80dB as threshold\n",
    "for contour in contours_sel:\n",
    "    x_li = contour[:, 0, 0] \n",
    "    y_li = contour[:, 0, 1] \n",
    "    x_li_idx = [((time[i]).astype(datetime) - datetime(1970, 1, 1)).total_seconds() * 1000.0 for i in x_li]\n",
    "    y_li_idx = [depth[j] for j in y_li]\n",
    "    xy_li_idx = [[i, j] for i, j in zip(x_li_idx, y_li_idx)]\n",
    "    ax.add_patch(patches.Polygon(np.array(xy_li_idx), fill=False, linewidth=1.5, edgecolor='orange'))\n",
    "xmin, xmax, ymin, ymax = plt.axis()\n",
    "ax.grid(False)\n",
    "plt.ylim((depth[0], plot_depth)) \n",
    "plt.gca().invert_yaxis()\n",
    "plt.ylabel('Depth (m)', fontsize=50)\n",
    "plt.xlabel(filename, fontsize=50)\n",
    "plt.yticks(fontsize=40)\n",
    "plt.xticks(fontsize=40)\n",
    "plt.tight_layout(pad=0.1)\n",
    "plt.savefig(fig_dir + 'classification_image.png', dpi=300)\n",
    "plt.close()"
   ]
  },
  {
   "cell_type": "markdown",
   "metadata": {},
   "source": [
    "## Step 3. Draw figures about ROIs and annotations\n",
    "\n",
    "In this step, we'll show when there are some missing data in annotations."
   ]
  },
  {
   "cell_type": "code",
   "execution_count": 7,
   "metadata": {},
   "outputs": [],
   "source": [
    "item = 'D20191102-T144417'"
   ]
  },
  {
   "cell_type": "code",
   "execution_count": 8,
   "metadata": {},
   "outputs": [],
   "source": [
    "# load\n",
    "from src.read_echogram import EchogramReader\n",
    "from src.detect_ROI import ROIDetector\n",
    "from src.ROI_features import FeatureExtractor"
   ]
  },
  {
   "cell_type": "code",
   "execution_count": 9,
   "metadata": {},
   "outputs": [],
   "source": [
    "threshold = -66\n",
    "kernel_size = 3"
   ]
  },
  {
   "cell_type": "markdown",
   "metadata": {},
   "source": [
    "Draw ROIs first. "
   ]
  },
  {
   "cell_type": "code",
   "execution_count": 11,
   "metadata": {},
   "outputs": [
    {
     "name": "stdout",
     "output_type": "stream",
     "text": [
      "D20191102-T144417\n"
     ]
    }
   ],
   "source": [
    "raw_path = os.path.join(raw_dir, item + '.raw')\n",
    "bot_path = os.path.join(bot_dir, item + '.bot')\n",
    "echogram = EchogramReader(raw_path, bot_path, freq_li)\n",
    "filename, Sv_npy, surface_idx, bottom_idx, time, depth, positions = echogram()   \n",
    "roi = ROIDetector(filename, Sv_npy, surface_idx, bottom_idx, fig_dir, threshold, kernel_size)\n",
    "img_shape, contours = roi()\n",
    "features = FeatureExtractor(filename, contours, Sv_npy, bottom_idx, time, depth, positions)                    \n",
    "contours_sel, contours_features = features() "
   ]
  },
  {
   "cell_type": "code",
   "execution_count": 12,
   "metadata": {},
   "outputs": [
    {
     "data": {
      "text/plain": [
       "True"
      ]
     },
     "execution_count": 12,
     "metadata": {},
     "output_type": "execute_result"
    }
   ],
   "source": [
    "img = np.zeros([img_shape[0], img_shape[1], 3], dtype=np.int32)\n",
    "cv2.drawContours(img, contours_sel, -1, (0, 255, 0), thickness=2)\n",
    "cv2.imwrite(fig_dir + 'D20191102-T144417_ROI.png', img)"
   ]
  },
  {
   "cell_type": "markdown",
   "metadata": {},
   "source": [
    "Then, let's draw annotations. "
   ]
  },
  {
   "cell_type": "code",
   "execution_count": 19,
   "metadata": {},
   "outputs": [],
   "source": [
    "from src.read_echogram_plotting import EchogramReader\n",
    "import pickle"
   ]
  },
  {
   "cell_type": "code",
   "execution_count": 24,
   "metadata": {},
   "outputs": [
    {
     "name": "stdout",
     "output_type": "stream",
     "text": [
      "D20191102-T144417\n"
     ]
    }
   ],
   "source": [
    "new_echogram = EchogramReaderPlot(raw_path, bot_path, freq_li)\n",
    "filename, Sv_data, interp, depth = new_echogram() \n",
    "plot_depth = np.max(interp) + 10 # set maximum depth\n",
    "# plot\n",
    "fig = plt.figure(figsize=[25, 15])\n",
    "ax = fig.add_subplot(111)\n",
    "eg = echogram.Echogram(ax, Sv_data[1], threshold=[-80, 0]) # use -80dB as threshold\n",
    "# get annotations\n",
    "pkl_dir = \"pkl/\"\n",
    "with open(pkl_dir + 'annotations_dict_new.pickle', 'rb') as handle:\n",
    "    annotations_dict = pickle.load(handle)\n",
    "annotations_idx, labels = annotations_dict[item]\n",
    "annotations_sel = annotations_idx[[idx for idx, i in enumerate(labels) if i == 4]]\n",
    "for contour in annotations_sel:\n",
    "    x_li = contour[:, 0, 0] \n",
    "    y_li = contour[:, 0, 1] \n",
    "    x_li_idx = [((time[i]).astype(datetime) - datetime(1970, 1, 1)).total_seconds() * 1000.0 for i in x_li]\n",
    "    y_li_idx = [depth[j] for j in y_li]\n",
    "    xy_li_idx = [[i, j] for i, j in zip(x_li_idx, y_li_idx)]\n",
    "    ax.add_patch(patches.Polygon(np.array(xy_li_idx), fill=False, linewidth=1.5, edgecolor='orange'))\n",
    "xmin, xmax, ymin, ymax = plt.axis()\n",
    "ax.grid(False)\n",
    "plt.ylim((depth[0], plot_depth)) \n",
    "plt.gca().invert_yaxis()\n",
    "plt.ylabel('', fontsize=50)\n",
    "plt.xlabel('', fontsize=50)\n",
    "plt.xticks([])\n",
    "plt.yticks([])\n",
    "# plt.yticks(fontsize=40)\n",
    "# plt.xticks(fontsize=40)\n",
    "plt.tight_layout(pad=0.1)\n",
    "plt.savefig(fig_dir + 'D20191102-T144417_annotations.png', dpi=300)\n",
    "plt.close()"
   ]
  },
  {
   "cell_type": "markdown",
   "metadata": {},
   "source": [
    "## Step 4. Prediction example\n",
    "\n",
    "In this step, we'll use two examples to show how the whole framework would be applied for prediction of Atlantic herring school in unseen echograms. "
   ]
  },
  {
   "cell_type": "code",
   "execution_count": 279,
   "metadata": {},
   "outputs": [],
   "source": [
    "item = 'D20191023-T130820'\n",
    "raw_path = os.path.join(raw_dir, item + '.raw')\n",
    "bot_path = os.path.join(bot_dir, item + '.bot')"
   ]
  },
  {
   "cell_type": "code",
   "execution_count": 280,
   "metadata": {},
   "outputs": [],
   "source": [
    "threshold = -66\n",
    "kernel_size = 1"
   ]
  },
  {
   "cell_type": "markdown",
   "metadata": {},
   "source": [
    "Draw annotations first. "
   ]
  },
  {
   "cell_type": "code",
   "execution_count": 281,
   "metadata": {},
   "outputs": [],
   "source": [
    "# load\n",
    "from src.read_echogram import EchogramReader\n",
    "from src.detect_ROI import ROIDetector\n",
    "from src.ROI_features import FeatureExtractor"
   ]
  },
  {
   "cell_type": "code",
   "execution_count": 282,
   "metadata": {},
   "outputs": [
    {
     "name": "stdout",
     "output_type": "stream",
     "text": [
      "D20191023-T130820\n"
     ]
    }
   ],
   "source": [
    "raw_path = os.path.join(raw_dir, item + '.raw')\n",
    "bot_path = os.path.join(bot_dir, item + '.bot')\n",
    "echogram = EchogramReader(raw_path, bot_path, freq_li)\n",
    "filename, Sv_npy, surface_idx, bottom_idx, time, depth, positions = echogram()   \n",
    "roi = ROIDetector(filename, Sv_npy, surface_idx, bottom_idx, fig_dir, threshold, kernel_size)\n",
    "img_shape, contours = roi()\n",
    "features = FeatureExtractor(filename, contours, Sv_npy, bottom_idx, time, depth, positions)                    \n",
    "contours_sel, contours_features = features() "
   ]
  },
  {
   "cell_type": "code",
   "execution_count": 283,
   "metadata": {},
   "outputs": [
    {
     "data": {
      "text/plain": [
       "85"
      ]
     },
     "execution_count": 283,
     "metadata": {},
     "output_type": "execute_result"
    }
   ],
   "source": [
    "len(contours_sel)"
   ]
  },
  {
   "cell_type": "code",
   "execution_count": 285,
   "metadata": {},
   "outputs": [],
   "source": [
    "from src.read_echogram_plotting import EchogramReader\n",
    "from echolab2.plotting.matplotlib import echogram"
   ]
  },
  {
   "cell_type": "code",
   "execution_count": 288,
   "metadata": {},
   "outputs": [
    {
     "name": "stdout",
     "output_type": "stream",
     "text": [
      "D20191023-T130820\n"
     ]
    }
   ],
   "source": [
    "new_echogram = EchogramReader(raw_path, bot_path, freq_li)\n",
    "filename, Sv_data, interp, depth = new_echogram() \n",
    "plot_depth = np.max(interp) + 10 # set maximum depth\n",
    "# plot\n",
    "fig = plt.figure(figsize=[25, 15])\n",
    "ax = fig.add_subplot(111)\n",
    "eg = echogram.Echogram(ax, Sv_data[1], threshold=[-80, 0]) # use -80dB as threshold\n",
    "# get annotations\n",
    "pkl_dir = \"pkl/\"\n",
    "with open(pkl_dir + 'annotations_dict_new.pickle', 'rb') as handle:\n",
    "    annotations_dict = pickle.load(handle)\n",
    "annotations_idx, labels = annotations_dict[item]\n",
    "# annotations_sel = annotations_idx[[idx for idx, i in enumerate(labels) if i == 4]]\n",
    "annotations_sel = annotations_idx\n",
    "for idx, contour in enumerate(annotations_sel):\n",
    "    x_li = contour[:, 0, 0] \n",
    "    y_li = contour[:, 0, 1] \n",
    "    x_li_idx = [((time[i]).astype(datetime) - datetime(1970, 1, 1)).total_seconds() * 1000.0 for i in x_li]\n",
    "    y_li_idx = [depth[j] for j in y_li]\n",
    "    xy_li_idx = [[i, j] for i, j in zip(x_li_idx, y_li_idx)]\n",
    "    if labels[idx] == 4:\n",
    "        ax.add_patch(patches.Polygon(np.array(xy_li_idx), fill=False, linewidth=1.5, edgecolor='orange'))\n",
    "    if labels[idx] == 3:\n",
    "        ax.add_patch(patches.Polygon(np.array(xy_li_idx), fill=False, linewidth=1.5, edgecolor='pink'))\n",
    "    if labels[idx] == 1:\n",
    "        ax.add_patch(patches.Polygon(np.array(xy_li_idx), fill=False, linewidth=1.5, edgecolor='darkgreen'))\n",
    "xmin, xmax, ymin, ymax = plt.axis()\n",
    "ax.grid(False)\n",
    "plt.ylim((depth[0], plot_depth)) \n",
    "plt.gca().invert_yaxis()\n",
    "plt.ylabel('Depth (m)', fontsize=50)\n",
    "plt.xlabel(filename, fontsize=50)\n",
    "plt.yticks(fontsize=40)\n",
    "plt.xticks(fontsize=40)\n",
    "plt.tight_layout(pad=0.1)\n",
    "plt.savefig(fig_dir + f'example_7_annotations.png', dpi=300)\n",
    "plt.close()"
   ]
  },
  {
   "cell_type": "code",
   "execution_count": 251,
   "metadata": {},
   "outputs": [],
   "source": [
    "# load classifier\n",
    "with open(pkl_dir + 'model_CO.pkl', 'rb') as handle:\n",
    "    c = pickle.load(handle)"
   ]
  },
  {
   "cell_type": "code",
   "execution_count": 252,
   "metadata": {},
   "outputs": [],
   "source": [
    "# load ROI features\n",
    "pkl_dir = \"pkl/\"\n",
    "df_roi_features = pd.read_pickle(pkl_dir + 'df_roi_features_new.pkl')"
   ]
  },
  {
   "cell_type": "code",
   "execution_count": 253,
   "metadata": {},
   "outputs": [],
   "source": [
    "acoustic_features = ['Sv_18kHz_min', 'Sv_18kHz_p5', 'Sv_18kHz_p25', 'Sv_18kHz_p50', 'Sv_18kHz_p75', 'Sv_18kHz_p95', 'Sv_18kHz_max', 'Sv_18kHz_std', 'Sv_38kHz_min', 'Sv_38kHz_p5', 'Sv_38kHz_p25', 'Sv_38kHz_p50', 'Sv_38kHz_p75', 'Sv_38kHz_p95', 'Sv_38kHz_max', 'Sv_38kHz_std', 'Sv_120kHz_min', 'Sv_120kHz_p5', 'Sv_120kHz_p25', 'Sv_120kHz_p50', 'Sv_120kHz_p75', 'Sv_120kHz_p95', 'Sv_120kHz_max', 'Sv_120kHz_std', 'Sv_200kHz_min', 'Sv_200kHz_p5', 'Sv_200kHz_p25', 'Sv_200kHz_p50', 'Sv_200kHz_p75', 'Sv_200kHz_p95', 'Sv_200kHz_max', 'Sv_200kHz_std', 'Sv_ref_18kHz', 'Sv_ref_120kHz', 'Sv_ref_200kHz']\n",
    "geometric_features = ['length', 'thickness', 'area', 'perimeter', 'rectangularity', 'compact', 'circularity', 'elongation']\n",
    "geographic_features_vertical = ['total_water_column', 'depth', 'relative_altitude']\n",
    "geographic_features_horizontal = ['latitude', 'longitude']\n",
    "sel_features = acoustic_features + geometric_features + geographic_features_vertical + geographic_features_horizontal"
   ]
  },
  {
   "cell_type": "code",
   "execution_count": 254,
   "metadata": {},
   "outputs": [
    {
     "data": {
      "text/plain": [
       "(35, 8)"
      ]
     },
     "execution_count": 254,
     "metadata": {},
     "output_type": "execute_result"
    }
   ],
   "source": [
    "len(acoustic_features), len(geometric_features)"
   ]
  },
  {
   "cell_type": "code",
   "execution_count": 255,
   "metadata": {},
   "outputs": [],
   "source": [
    "# normalization\n",
    "min_max_scaler = MinMaxScaler()\n",
    "df_roi_features[sel_features] = min_max_scaler.fit_transform(df_roi_features[sel_features])"
   ]
  },
  {
   "cell_type": "code",
   "execution_count": 256,
   "metadata": {},
   "outputs": [],
   "source": [
    "test_set = df_roi_features[df_roi_features['filename']==item]\n",
    "X_test = test_set[sel_features].to_numpy()\n",
    "X1_test = test_set[acoustic_features + geometric_features].to_numpy()\n",
    "X2_test = test_set[geographic_features_horizontal + geographic_features_vertical].to_numpy()\n",
    "c_y_predict = c.predict(X1_test, X2_test)"
   ]
  },
  {
   "cell_type": "code",
   "execution_count": 257,
   "metadata": {},
   "outputs": [
    {
     "data": {
      "text/plain": [
       "(array([0, 1]), array([ 2, 83]))"
      ]
     },
     "execution_count": 257,
     "metadata": {},
     "output_type": "execute_result"
    }
   ],
   "source": [
    "np.unique(c_y_predict, return_counts=True)"
   ]
  },
  {
   "cell_type": "code",
   "execution_count": 258,
   "metadata": {},
   "outputs": [],
   "source": [
    "contours_sel_sel = []\n",
    "for idx, i in enumerate(c_y_predict):\n",
    "    if i == 1:\n",
    "        contours_sel_sel.append(contours_sel[idx])"
   ]
  },
  {
   "cell_type": "code",
   "execution_count": 259,
   "metadata": {},
   "outputs": [
    {
     "name": "stdout",
     "output_type": "stream",
     "text": [
      "D20191023-T130820\n"
     ]
    }
   ],
   "source": [
    "new_echogram = EchogramReader(raw_path, bot_path, freq_li)\n",
    "filename, Sv_data, interp, depth = new_echogram() \n",
    "plot_depth = np.max(interp) + 10 # set maximum depth\n",
    "# plot\n",
    "fig = plt.figure(figsize=[25, 15])\n",
    "ax = fig.add_subplot(111)\n",
    "eg = echogram.Echogram(ax, Sv_data[1], threshold=[-80, 0]) # use -80dB as threshold\n",
    "for contour in contours_sel_sel:\n",
    "    x_li = contour[:, 0, 0] \n",
    "    y_li = contour[:, 0, 1] \n",
    "    x_li_idx = [((time[i]).astype(datetime) - datetime(1970, 1, 1)).total_seconds() * 1000.0 for i in x_li]\n",
    "    y_li_idx = [depth[j] for j in y_li]\n",
    "    xy_li_idx = [[i, j] for i, j in zip(x_li_idx, y_li_idx)]\n",
    "    ax.add_patch(patches.Polygon(np.array(xy_li_idx), fill=False, linewidth=1.5, edgecolor='orange'))\n",
    "xmin, xmax, ymin, ymax = plt.axis()\n",
    "ax.grid(False)\n",
    "plt.ylim((depth[0], plot_depth)) \n",
    "plt.gca().invert_yaxis()\n",
    "plt.ylabel('Depth (m)', fontsize=50)\n",
    "plt.xlabel(filename, fontsize=50)\n",
    "plt.yticks(fontsize=40)\n",
    "plt.xticks(fontsize=40)\n",
    "plt.tight_layout(pad=0.1)\n",
    "plt.savefig(fig_dir + f'example_7_predictions.png', dpi=300)\n",
    "plt.close()"
   ]
  }
 ],
 "metadata": {
  "kernelspec": {
   "display_name": "Python 3",
   "language": "python",
   "name": "python3"
  },
  "language_info": {
   "codemirror_mode": {
    "name": "ipython",
    "version": 3
   },
   "file_extension": ".py",
   "mimetype": "text/x-python",
   "name": "python",
   "nbconvert_exporter": "python",
   "pygments_lexer": "ipython3",
   "version": "3.7.1"
  }
 },
 "nbformat": 4,
 "nbformat_minor": 5
}
